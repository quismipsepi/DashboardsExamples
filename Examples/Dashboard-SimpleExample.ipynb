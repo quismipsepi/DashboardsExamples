{
 "cells": [
  {
   "cell_type": "code",
   "execution_count": 1,
   "metadata": {},
   "outputs": [],
   "source": [
    "using Dashboards\n",
    "using HTTP\n",
    "using Calculus # To calculate the slope of the tangent\n",
    "\n",
    "# The following code is more focused on backend side of things.\n",
    "# That being said, Dashboards.jl offers extensive front-end customizability,\n",
    "# which everyone should check out whilst building their project."
   ]
  },
  {
   "cell_type": "code",
   "execution_count": 2,
   "metadata": {},
   "outputs": [
    {
     "data": {
      "text/plain": [
       "Dash(\"tangent n stuff\", Component(\"Div\", \"dash_html_components\", Dict{Symbol,Any}(:children => (Component(\"Div\", \"dash_html_components\", Dict{Symbol,Any}(:children => Component(\"H1\", \"dash_html_components\", Dict{Symbol,Any}(:children => \"Graphing Tool\"), Set(Symbol[:n_clicks, :key, :contentEditable, :loading_state, :contextMenu, :n_clicks_timestamp, :draggable, :accessKey, :hidden, :style, :children, :id, :role, :spellCheck, :lang, :className, :tabIndex, :title, :dir])),:style => (textAlign = \"center\",)), Set(Symbol[:n_clicks, :key, :contentEditable, :loading_state, :contextMenu, :n_clicks_timestamp, :draggable, :accessKey, :hidden, :style, :children, :id, :role, :spellCheck, :lang, :className, :tabIndex, :title, :dir])), Component(\"Table\", \"dash_html_components\", Dict{Symbol,Any}(:children => Component(\"Tr\", \"dash_html_components\", Dict{Symbol,Any}(:children => (Component(\"Td\", \"dash_html_components\", Dict{Symbol,Any}(:children => Component(\"Div\", \"dash_html_components\", Dict{Symbol,Any}(:children => (Component(\"Checklist\", \"dash_core_components\", Dict{Symbol,Any}(:value => [\"SHOW\"],:id => \"show\",:options => NamedTuple{(:label, :value),Tuple{String,String}}[(label = \"SHOW TANGENT\", value = \"SHOW\")]), Set(Symbol[:inputClassName, :loading_state, :inputStyle, :labelStyle, :options, :labelClassName, :persisted_props, :persistence, :style, :value, :id, :persistence_type, :className])), Component(\"Button\", \"dash_html_components\", Dict{Symbol,Any}(:children => \"submit\",:id => \"submit\",:style => (margin = \"15px 15px\",)), Set(Symbol[:accessKey, :hidden, :autoFocus, :lang, :contentEditable, :name, :formTarget, :children, :spellCheck, :tabIndex  …  :title, :formEncType, :formNoValidate, :n_clicks, :formAction, :style, :value, :id, :type, :role])), Component(\"Input\", \"dash_core_components\", Dict{Symbol,Any}(:value => \"x^2\",:id => \"equation\",:style => (margin = \"15px 15px\",)), Set(Symbol[:debounce, :maxLength, :selectionStart, :loading_state, :size, :selectionDirection, :disabled, :min, :autoFocus, :pattern  …  :autoComplete, :n_blur, :value, :id, :type, :step, :spellCheck, :persistence_type, :className, :readOnly])), Component(\"Div\", \"dash_html_components\", Dict{Symbol,Any}(:children => Component(\"Slider\", \"dash_core_components\", Dict{Symbol,Any}(:max => 2000,:value => 0,:id => \"xmove\",:step => 10,:min => -2000), Set(Symbol[:max, :included, :persisted_props, :marks, :loading_state, :persistence, :disabled, :min, :updatemode, :dots, :value, :vertical, :id, :tooltip, :step, :persistence_type, :className])),:style => (margin = \"15px 15px\",)), Set(Symbol[:n_clicks, :key, :contentEditable, :loading_state, :contextMenu, :n_clicks_timestamp, :draggable, :accessKey, :hidden, :style, :children, :id, :role, :spellCheck, :lang, :className, :tabIndex, :title, :dir])), Component(\"H3\", \"dash_html_components\", Dict{Symbol,Any}(:children => \"move along x\"), Set(Symbol[:n_clicks, :key, :contentEditable, :loading_state, :contextMenu, :n_clicks_timestamp, :draggable, :accessKey, :hidden, :style, :children, :id, :role, :spellCheck, :lang, :className, :tabIndex, :title, :dir])), Component(\"Div\", \"dash_html_components\", Dict{Symbol,Any}(:children => Component(\"Slider\", \"dash_core_components\", Dict{Symbol,Any}(:max => 3000000,:value => 0,:id => \"ymove\",:step => 1000,:min => -3000000), Set(Symbol[:max, :included, :persisted_props, :marks, :loading_state, :persistence, :disabled, :min, :updatemode, :dots, :value, :vertical, :id, :tooltip, :step, :persistence_type, :className])),:style => (margin = \"15px 15px\",)), Set(Symbol[:n_clicks, :key, :contentEditable, :loading_state, :contextMenu, :n_clicks_timestamp, :draggable, :accessKey, :hidden, :style, :children, :id, :role, :spellCheck, :lang, :className, :tabIndex, :title, :dir])), Component(\"H3\", \"dash_html_components\", Dict{Symbol,Any}(:children => \"move along y\"), Set(Symbol[:n_clicks, :key, :contentEditable, :loading_state, :contextMenu, :n_clicks_timestamp, :draggable, :accessKey, :hidden, :style, :children, :id, :role, :spellCheck, :lang, :className, :tabIndex, :title, :dir]))),:id => \"equations\"), Set(Symbol[:n_clicks, :key, :contentEditable, :loading_state, :contextMenu, :n_clicks_timestamp, :draggable, :accessKey, :hidden, :style, :children, :id, :role, :spellCheck, :lang, :className, :tabIndex, :title, :dir])),:style => (width = \"25%\", textAlign = \"center\")), Set(Symbol[:accessKey, :hidden, :colSpan, :lang, :contentEditable, :children, :spellCheck, :tabIndex, :className, :dir  …  :rowSpan, :contextMenu, :n_clicks_timestamp, :draggable, :title, :n_clicks, :headers, :style, :id, :role])), Component(\"Td\", \"dash_html_components\", Dict{Symbol,Any}(:children => Component(\"Div\", \"dash_html_components\", Dict{Symbol,Any}(:children => (Component(\"Graph\", \"dash_core_components\", Dict{Symbol,Any}(:id => \"example-graph\"), Set(Symbol[:relayoutData, :loading_state, :animation_options, :figure, :hoverData, :clickData, :selectedData, :clear_on_unhover, :animate, :config, :style, :extendData, :id, :clickAnnotationData, :className, :restyleData])), Component(\"Div\", \"dash_html_components\", Dict{Symbol,Any}(:children => Component(\"Slider\", \"dash_core_components\", Dict{Symbol,Any}(:max => 4000,:value => 0,:id => \"x_val\",:step => 100,:min => -4000), Set(Symbol[:max, :included, :persisted_props, :marks, :loading_state, :persistence, :disabled, :min, :updatemode, :dots, :value, :vertical, :id, :tooltip, :step, :persistence_type, :className])),:style => (margin = \"20px 15px\",)), Set(Symbol[:n_clicks, :key, :contentEditable, :loading_state, :contextMenu, :n_clicks_timestamp, :draggable, :accessKey, :hidden, :style, :children, :id, :role, :spellCheck, :lang, :className, :tabIndex, :title, :dir]))),:style => (textAlign = \"center\",)), Set(Symbol[:n_clicks, :key, :contentEditable, :loading_state, :contextMenu, :n_clicks_timestamp, :draggable, :accessKey, :hidden, :style, :children, :id, :role, :spellCheck, :lang, :className, :tabIndex, :title, :dir])),:style => (width = \"50%\",)), Set(Symbol[:accessKey, :hidden, :colSpan, :lang, :contentEditable, :children, :spellCheck, :tabIndex, :className, :dir  …  :rowSpan, :contextMenu, :n_clicks_timestamp, :draggable, :title, :n_clicks, :headers, :style, :id, :role])))), Set(Symbol[:n_clicks, :key, :contentEditable, :loading_state, :contextMenu, :n_clicks_timestamp, :draggable, :accessKey, :hidden, :style, :children, :id, :role, :spellCheck, :lang, :className, :tabIndex, :title, :dir])),:style => (width = \"100%\", hight = \"100%\")), Set(Symbol[:title, :n_clicks, :key, :contentEditable, :loading_state, :contextMenu, :n_clicks_timestamp, :draggable, :accessKey, :hidden, :style, :children, :id, :role, :spellCheck, :summary, :className, :lang, :tabIndex, :dir]))),:style => (backgroundColor = \"#111111\", color = \"#7FDBFF\")), Set(Symbol[:n_clicks, :key, :contentEditable, :loading_state, :contextMenu, :n_clicks_timestamp, :draggable, :accessKey, :hidden, :style, :children, :id, :role, :spellCheck, :lang, :className, :tabIndex, :title, :dir])), Dict{Symbol,Dashboards.Callback}(), [\"https://codepen.io/chriddyp/pen/bWLwgP.css\"], \"/\", \"assets\", Dict(:ymove => Component(\"Slider\", \"dash_core_components\", Dict{Symbol,Any}(:max => 3000000,:value => 0,:id => \"ymove\",:step => 1000,:min => -3000000), Set(Symbol[:max, :included, :persisted_props, :marks, :loading_state, :persistence, :disabled, :min, :updatemode, :dots, :value, :vertical, :id, :tooltip, :step, :persistence_type, :className])),:show => Component(\"Checklist\", \"dash_core_components\", Dict{Symbol,Any}(:value => [\"SHOW\"],:id => \"show\",:options => NamedTuple{(:label, :value),Tuple{String,String}}[(label = \"SHOW TANGENT\", value = \"SHOW\")]), Set(Symbol[:inputClassName, :loading_state, :inputStyle, :labelStyle, :options, :labelClassName, :persisted_props, :persistence, :style, :value, :id, :persistence_type, :className])),:xmove => Component(\"Slider\", \"dash_core_components\", Dict{Symbol,Any}(:max => 2000,:value => 0,:id => \"xmove\",:step => 10,:min => -2000), Set(Symbol[:max, :included, :persisted_props, :marks, :loading_state, :persistence, :disabled, :min, :updatemode, :dots, :value, :vertical, :id, :tooltip, :step, :persistence_type, :className])),:submit => Component(\"Button\", \"dash_html_components\", Dict{Symbol,Any}(:children => \"submit\",:id => \"submit\",:style => (margin = \"15px 15px\",)), Set(Symbol[:accessKey, :hidden, :autoFocus, :lang, :contentEditable, :name, :formTarget, :children, :spellCheck, :tabIndex  …  :title, :formEncType, :formNoValidate, :n_clicks, :formAction, :style, :value, :id, :type, :role])),:x_val => Component(\"Slider\", \"dash_core_components\", Dict{Symbol,Any}(:max => 4000,:value => 0,:id => \"x_val\",:step => 100,:min => -4000), Set(Symbol[:max, :included, :persisted_props, :marks, :loading_state, :persistence, :disabled, :min, :updatemode, :dots, :value, :vertical, :id, :tooltip, :step, :persistence_type, :className])),Symbol(\"example-graph\") => Component(\"Graph\", \"dash_core_components\", Dict{Symbol,Any}(:id => \"example-graph\"), Set(Symbol[:relayoutData, :loading_state, :animation_options, :figure, :hoverData, :clickData, :selectedData, :clear_on_unhover, :animate, :config, :style, :extendData, :id, :clickAnnotationData, :className, :restyleData])),:equations => Component(\"Div\", \"dash_html_components\", Dict{Symbol,Any}(:children => (Component(\"Checklist\", \"dash_core_components\", Dict{Symbol,Any}(:value => [\"SHOW\"],:id => \"show\",:options => NamedTuple{(:label, :value),Tuple{String,String}}[(label = \"SHOW TANGENT\", value = \"SHOW\")]), Set(Symbol[:inputClassName, :loading_state, :inputStyle, :labelStyle, :options, :labelClassName, :persisted_props, :persistence, :style, :value, :id, :persistence_type, :className])), Component(\"Button\", \"dash_html_components\", Dict{Symbol,Any}(:children => \"submit\",:id => \"submit\",:style => (margin = \"15px 15px\",)), Set(Symbol[:accessKey, :hidden, :autoFocus, :lang, :contentEditable, :name, :formTarget, :children, :spellCheck, :tabIndex  …  :title, :formEncType, :formNoValidate, :n_clicks, :formAction, :style, :value, :id, :type, :role])), Component(\"Input\", \"dash_core_components\", Dict{Symbol,Any}(:value => \"x^2\",:id => \"equation\",:style => (margin = \"15px 15px\",)), Set(Symbol[:debounce, :maxLength, :selectionStart, :loading_state, :size, :selectionDirection, :disabled, :min, :autoFocus, :pattern  …  :autoComplete, :n_blur, :value, :id, :type, :step, :spellCheck, :persistence_type, :className, :readOnly])), Component(\"Div\", \"dash_html_components\", Dict{Symbol,Any}(:children => Component(\"Slider\", \"dash_core_components\", Dict{Symbol,Any}(:max => 2000,:value => 0,:id => \"xmove\",:step => 10,:min => -2000), Set(Symbol[:max, :included, :persisted_props, :marks, :loading_state, :persistence, :disabled, :min, :updatemode, :dots, :value, :vertical, :id, :tooltip, :step, :persistence_type, :className])),:style => (margin = \"15px 15px\",)), Set(Symbol[:n_clicks, :key, :contentEditable, :loading_state, :contextMenu, :n_clicks_timestamp, :draggable, :accessKey, :hidden, :style, :children, :id, :role, :spellCheck, :lang, :className, :tabIndex, :title, :dir])), Component(\"H3\", \"dash_html_components\", Dict{Symbol,Any}(:children => \"move along x\"), Set(Symbol[:n_clicks, :key, :contentEditable, :loading_state, :contextMenu, :n_clicks_timestamp, :draggable, :accessKey, :hidden, :style, :children, :id, :role, :spellCheck, :lang, :className, :tabIndex, :title, :dir])), Component(\"Div\", \"dash_html_components\", Dict{Symbol,Any}(:children => Component(\"Slider\", \"dash_core_components\", Dict{Symbol,Any}(:max => 3000000,:value => 0,:id => \"ymove\",:step => 1000,:min => -3000000), Set(Symbol[:max, :included, :persisted_props, :marks, :loading_state, :persistence, :disabled, :min, :updatemode, :dots, :value, :vertical, :id, :tooltip, :step, :persistence_type, :className])),:style => (margin = \"15px 15px\",)), Set(Symbol[:n_clicks, :key, :contentEditable, :loading_state, :contextMenu, :n_clicks_timestamp, :draggable, :accessKey, :hidden, :style, :children, :id, :role, :spellCheck, :lang, :className, :tabIndex, :title, :dir])), Component(\"H3\", \"dash_html_components\", Dict{Symbol,Any}(:children => \"move along y\"), Set(Symbol[:n_clicks, :key, :contentEditable, :loading_state, :contextMenu, :n_clicks_timestamp, :draggable, :accessKey, :hidden, :style, :children, :id, :role, :spellCheck, :lang, :className, :tabIndex, :title, :dir]))),:id => \"equations\"), Set(Symbol[:n_clicks, :key, :contentEditable, :loading_state, :contextMenu, :n_clicks_timestamp, :draggable, :accessKey, :hidden, :style, :children, :id, :role, :spellCheck, :lang, :className, :tabIndex, :title, :dir])),:equation => Component(\"Input\", \"dash_core_components\", Dict{Symbol,Any}(:value => \"x^2\",:id => \"equation\",:style => (margin = \"15px 15px\",)), Set(Symbol[:debounce, :maxLength, :selectionStart, :loading_state, :size, :selectionDirection, :disabled, :min, :autoFocus, :pattern  …  :autoComplete, :n_blur, :value, :id, :type, :step, :spellCheck, :persistence_type, :className, :readOnly]))), Dict{Symbol,Dict{Symbol,Type}}())"
      ]
     },
     "execution_count": 2,
     "metadata": {},
     "output_type": "execute_result"
    }
   ],
   "source": [
    "\n",
    "\n",
    "app = Dash(\n",
    "    \"tangent n stuff\",\n",
    "    external_stylesheets = [\"https://codepen.io/chriddyp/pen/bWLwgP.css\"],\n",
    ") do\n",
    "    html_div(style = (backgroundColor = \"#111111\", color = \"#7FDBFF\")) do\n",
    "        html_div(style = (textAlign = \"center\",)) do\n",
    "            html_h1(\"Graphing Tool\")\n",
    "        end,\n",
    "        \n",
    "        html_table(style = (width = \"100%\", hight = \"100%\")) do\n",
    "            html_tr() do\n",
    "                html_td(style = (width = \"25%\", textAlign = \"center\")) do\n",
    "                    html_div(id = \"equations\") do\n",
    "                        dcc_checklist(\n",
    "                        id = \"show\",\n",
    "                        options=[\n",
    "                            (label=\"SHOW TANGENT\", value=\"SHOW\")\n",
    "                        ],\n",
    "                        value=[\"SHOW\"]\n",
    "                        ),\n",
    "                        html_button(\n",
    "                            \"submit\",\n",
    "                            id = \"submit\",\n",
    "                            style = (margin = \"15px 15px\",),\n",
    "                        ),\n",
    "                        dcc_input(\n",
    "                            id = \"equation\",\n",
    "                            value = \"x^2\",\n",
    "                            style = (margin = \"15px 15px\",),\n",
    "                        ),\n",
    "                        html_div(style = (margin = \"15px 15px\",)) do # slider to measure how much to move along the x axis.\n",
    "                            dcc_slider(\n",
    "                                id = \"xmove\",\n",
    "                                value = 0,\n",
    "                                min = -2000,\n",
    "                                max = 2000,\n",
    "                                step = 10,\n",
    "                            )\n",
    "                        end,\n",
    "                        html_h3(\"move along x\"),\n",
    "                        html_div(style = (margin = \"15px 15px\",)) do # slider to measure how much to move along the x axis.\n",
    "                            dcc_slider(\n",
    "                                id = \"ymove\",\n",
    "                                value = 0,\n",
    "                                min = -3 * 10^6,\n",
    "                                max = 3 * 10^6,\n",
    "                                step = 1000,\n",
    "                            )\n",
    "                        end,\n",
    "                        html_h3(\"move along y\",)\n",
    "                    end\n",
    "                end,\n",
    "                html_td(style = (width = \"50%\",)) do\n",
    "                    html_div(style = (textAlign = \"center\",)) do\n",
    "                        dcc_graph(id = \"example-graph\"),\n",
    "                        html_div(style = (margin = \"20px 15px\",)) do # slider to measure the x coordinate at which we want to find the tangent(s).\n",
    "                            dcc_slider(\n",
    "                                id = \"x_val\",\n",
    "                                value = 0,\n",
    "                                min = -4000,\n",
    "                                max = 4000,\n",
    "                                step = 100,\n",
    "                            )\n",
    "                        end\n",
    "                    end\n",
    "                end\n",
    "            end\n",
    "        end\n",
    "    end\n",
    "end\n",
    "\n"
   ]
  },
  {
   "cell_type": "code",
   "execution_count": 3,
   "metadata": {},
   "outputs": [
    {
     "data": {
      "text/plain": [
       "Dict{Symbol,Dashboards.Callback} with 1 entry:\n",
       "  Symbol(\"example-graph.figure\") => Callback(#27, CallbackId(Tuple{Symbol,Symbo…"
      ]
     },
     "execution_count": 3,
     "metadata": {},
     "output_type": "execute_result"
    }
   ],
   "source": [
    "\n",
    "callback!(\n",
    "    app,\n",
    "    callid\"{equation.value} show.value, ymove.value, xmove.value, submit.n_clicks, x_val.value => example-graph.figure\",\n",
    ") do eq, show, ymove, xmove, _, xval # we want to update the graph everytime the user\n",
    "                                     # toggles the SHOW TANGENT button\n",
    "                                     # moves the sliders \n",
    "                                     # presses the submit button\n",
    "                                     # the equation.value is in {} to signify that its current state will be inputed. However,\n",
    "                                     # it will not update the graph. This is because we dont want to update the graph while the user is typing.\n",
    "   \n",
    "    eqs = split(eq,\",\") # We expect the equations to be seperated by a \",\"\n",
    "    data = []\n",
    "    for i in 1:length(eqs)\n",
    "        x, y, equation = getxyval(eqs[i], xmove = xmove, ymove = ymove) # this function returns the x, y arrays which consist of the points\n",
    "                                                                        # which will be graphed. It also returns the mathematically correct equation\n",
    "        if show == [\"SHOW\"] \n",
    "            slope = string(differentiate(equation)) # diffrentiate the equation\n",
    "            slope = split(slope, \"\") # the next few lines (till 24) find out the \n",
    "            for j = 1:length(slope)  # slope of the tangent at the point \"xval\"\n",
    "                slope[j] == \"x\" ? slope[j] = string(\"(\", xval, \")\") : nothing\n",
    "            end\n",
    "            slope = join(slope)\n",
    "            slope = eval(Meta.parse(slope))\n",
    "            yval = y[findfirst(u -> u == xval, x)]\n",
    "            y1 = \"$slope*(x-($xval)) + ($(yval))\" # this is the equation of the tangent \n",
    "                                                  # This was derived from the formula \n",
    "                                                  # Y - y1 = m(X-x1) where x1,y1 are the known points that lie on the line\n",
    "            x2, y2, lineeq = getxyval(y1)\n",
    "            t2 = (                                # getting the data in correct format and adding it to the array \"data\"\n",
    "                x=x2,\n",
    "                y=y2,\n",
    "                mode=\"line\",\n",
    "                name=lineeq\n",
    "            )\n",
    "            push!(data,t2)\n",
    "            t3 = (                                # These will be the points where the tangent(s) intercept the curve\n",
    "                                                  # So, we want to mark them with \"markers\".\n",
    "             x = [xval],\n",
    "             y = [yval],\n",
    "             mode = \"markers\",\n",
    "             marker_size = 15,\n",
    "             opacity = 0.7,\n",
    "             name = \"($xval, $yval)\",\n",
    "            )\n",
    "            push!(data,t3)\n",
    "        end\n",
    "        t = (x=x,y=y,mode=\"line\",name=equation) # putting the x, y data (of the curve(s)) in correct format\n",
    "        push!(data,t)\n",
    "    end\n",
    "\n",
    "    return (data = data,) \n",
    "end\n"
   ]
  },
  {
   "cell_type": "code",
   "execution_count": 4,
   "metadata": {},
   "outputs": [
    {
     "data": {
      "text/plain": [
       "getxyval (generic function with 1 method)"
      ]
     },
     "execution_count": 4,
     "metadata": {},
     "output_type": "execute_result"
    }
   ],
   "source": [
    "\n",
    "function getxyval(equation; xmove = 0, ymove = 0) # This equation returns the arrays which consist\n",
    "                                                  # of the points which will be graphed for any given equation\n",
    "    equation = split(equation, \"\")\n",
    "    x = collect(-4000:10:4000) # all the x values for which we will graph the equation\n",
    "    y = []\n",
    "    for i = 1:length(equation) # The next couple of lines change the equation into a mathematically correct one.\n",
    "        equation[i] == \" \" ? equation[i] = \"\" : nothing\n",
    "        equation[i] == \"x\" ? equation[i] = string(\"(\", \"x\", \"- ($xmove)\", \")\") : # subtract the ammount desiered to move along the x axis\n",
    "                                                                                 # to acctually move along the xaxis.\n",
    "        nothing\n",
    "        equation[i] == \"+\" || equation[i] == \"*\" || equation[i] == \"/\" ?\n",
    "        equation[i] = string(\" \", equation[i], \" \") : nothing\n",
    "    end\n",
    "\n",
    "    push!(equation, \" - ($ymove)\") # We subtract the ammount we want to move along the y axis\n",
    "                                   # to acctually move along the y axis.\n",
    "\n",
    "    for j in x # now we find all the y values for all the x values\n",
    "        temp = copy(equation) # we make a copy of equation because we dont want to\n",
    "                              # edit the orignal equation which we need as it is.\n",
    "        \n",
    "        for i = 1:length(equation)\n",
    "            if equation[i] == \"(x- ($xmove))\"  \n",
    "                temp[i] = string(\"(\", j, \"- ($xmove)\", \")\")\n",
    "            end\n",
    "        end\n",
    "        temp = join(temp)\n",
    "        anss = eval(Meta.parse(temp)) \n",
    "        push!(y, anss)\n",
    "\n",
    "    end\n",
    "\n",
    "    equation = join(equation)\n",
    "    return (x, y, equation)\n",
    "\n",
    "end\n"
   ]
  },
  {
   "cell_type": "code",
   "execution_count": null,
   "metadata": {},
   "outputs": [
    {
     "name": "stdout",
     "output_type": "stream",
     "text": [
      "started at localhost:8080\n"
     ]
    }
   ],
   "source": [
    "# boiler plate Dashboard code to run the application on local host\n",
    "\n",
    "handler = make_handler(app, debug = true)\n",
    "println(\"started at localhost:8080\")\n",
    "HTTP.serve(handler, HTTP.Sockets.localhost, 8080)\n",
    "\n",
    "# The graph sometimes behaves a bit weird\n",
    "# this is mainly due to two reasons\n",
    "# Int overflowing errors (we are working with HUGE numbers)\n",
    "# The program only plots the graph between a certain upper and lower bound.\n",
    "# This is maily because I dont want my computer to blow up handeling numbers in the likes of 10^10 "
   ]
  },
  {
   "cell_type": "code",
   "execution_count": null,
   "metadata": {},
   "outputs": [],
   "source": []
  }
 ],
 "metadata": {
  "kernelspec": {
   "display_name": "Julia 1.3.0",
   "language": "julia",
   "name": "julia-1.3"
  },
  "language_info": {
   "file_extension": ".jl",
   "mimetype": "application/julia",
   "name": "julia",
   "version": "1.3.0"
  }
 },
 "nbformat": 4,
 "nbformat_minor": 2
}
